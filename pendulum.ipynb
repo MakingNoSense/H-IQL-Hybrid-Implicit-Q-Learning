{
 "cells": [
  {
   "cell_type": "markdown",
   "id": "f919f2c5",
   "metadata": {},
   "source": [
    "### H-IQL usage on Minari Inverted Pendulum \n",
    "This notebook shows how to apply Hybrid Implicit Q-Learning on the Minari Inverted Pendulum Dataset. This has been used as a proof-of-concept for the alogrithm. (https://minari.farama.org/main/datasets/mujoco/invertedpendulum/medium-v0/)"
   ]
  },
  {
   "cell_type": "code",
   "execution_count": 10,
   "id": "5d5c8afb",
   "metadata": {},
   "outputs": [
    {
     "name": "stdout",
     "output_type": "stream",
     "text": [
      "Env loaded successfully. Obs shape: (4,)\n"
     ]
    },
    {
     "name": "stderr",
     "output_type": "stream",
     "text": [
      "/home/rasmno20/.local/lib/python3.10/site-packages/minari/dataset/minari_dataset.py:204: UserWarning: Installed mujoco version 3.1.6 does not meet the requirement ==3.2.3.\n",
      "We recommend to install the required version with `pip install \"mujoco==3.2.3\"`\n",
      "  warnings.warn(\n"
     ]
    }
   ],
   "source": [
    "import minari\n",
    "import numpy as np\n",
    "import importlib\n",
    "\n",
    "dataset = minari.load_dataset('mujoco/invertedpendulum/medium-v0')\n",
    "eval_env = dataset.recover_environment(eval_env=True)\n",
    "\n",
    "obs, _ = eval_env.reset()\n",
    "print(\"Env loaded successfully. Obs shape:\", obs.shape)"
   ]
  },
  {
   "cell_type": "markdown",
   "id": "bb07f231",
   "metadata": {},
   "source": [
    "### Separate the transitions into states, actions, rewards, next states, and terminals. "
   ]
  },
  {
   "cell_type": "code",
   "execution_count": 11,
   "id": "c863a798",
   "metadata": {},
   "outputs": [],
   "source": [
    "states = []\n",
    "actions = []\n",
    "rewards = []\n",
    "next_states = []\n",
    "terminals = []\n",
    "\n",
    "for ep in dataset.iterate_episodes():\n",
    "    for t in range(len(ep.rewards)):\n",
    "        obs = ep.observations[t]\n",
    "        next_obs = ep.observations[t + 1]\n",
    "\n",
    "        states.append(obs)\n",
    "        actions.append(ep.actions[t])\n",
    "        rewards.append(ep.rewards[t])\n",
    "        next_states.append(next_obs)\n",
    "        terminals.append(ep.terminations[t])\n",
    "    terminals[-1] = 1.0\n",
    "\n",
    "states = np.array(states)\n",
    "actions = np.array(actions)\n",
    "rewards = np.array(rewards)\n",
    "next_states = np.array(next_states)\n",
    "terminals = np.array(terminals)"
   ]
  },
  {
   "cell_type": "markdown",
   "id": "9b906930",
   "metadata": {},
   "source": [
    "### Modify into a hybrid action space\n",
    "Originally there is only one action in this dataset which is the one-dimensional force. However, the dataset is modified into a hyrbid action space consiting of a discrete decision, Left or Right, followed by an unsigned force (Continuous)."
   ]
  },
  {
   "cell_type": "code",
   "execution_count": 12,
   "id": "26a6c17e",
   "metadata": {},
   "outputs": [],
   "source": [
    "hybrid_actions = []\n",
    "\n",
    "for action in actions:\n",
    "    discrete_action = np.zeros(2)\n",
    "\n",
    "    if action > 0:  \n",
    "        discrete_action[0] = 1\n",
    "    else:  \n",
    "        discrete_action[1] = 1\n",
    "\n",
    "    hybrid_action = np.concatenate([action, discrete_action])\n",
    "\n",
    "    hybrid_actions.append(hybrid_action)\n",
    "\n",
    "hybrid_actions = np.array(hybrid_actions)"
   ]
  },
  {
   "cell_type": "markdown",
   "id": "502650ae",
   "metadata": {},
   "source": [
    "### Scaling and Replay Buffer\n",
    "While this dataset does not neccessarily need sccaling, it is a good practice and most other datasets benefits from it. It is important that all features which needs scaling are placed in the first part of the states and action vectors, as the logic in the model is built around that thought. "
   ]
  },
  {
   "cell_type": "code",
   "execution_count": 13,
   "id": "41dc977d",
   "metadata": {},
   "outputs": [
    {
     "name": "stdout",
     "output_type": "stream",
     "text": [
      "Updated\n",
      "99075\n"
     ]
    }
   ],
   "source": [
    "from sklearn.preprocessing import StandardScaler, MinMaxScaler\n",
    "import HIQL as classes\n",
    "importlib.reload(classes)\n",
    "\n",
    "capacity = states.shape[0]\n",
    "obs_dim = states.shape[1]\n",
    "act_dim = hybrid_actions.shape[1]\n",
    "\n",
    "obs_scaler = StandardScaler()\n",
    "action_scaler = MinMaxScaler(feature_range=(-1, 1))\n",
    "reward_scaler = StandardScaler()\n",
    "\n",
    "# Fit on raw data\n",
    "obs_scaler.fit(states)      \n",
    "continuous_part = hybrid_actions[:, :1]\n",
    "action_scaler.fit(continuous_part)          \n",
    "reward_scaler.fit(rewards.reshape(-1, 1))\n",
    "\n",
    "# Transform data\n",
    "states_scaled = obs_scaler.transform(states)\n",
    "next_states_scaled = obs_scaler.transform(next_states)\n",
    "continuous_scaled = action_scaler.transform(continuous_part)\n",
    "rewards_scaled = reward_scaler.transform(rewards.reshape(-1, 1)).flatten()\n",
    "\n",
    "hybrid_actions_scaled = np.concatenate([continuous_scaled, hybrid_actions[:, 1:]], axis=1)\n",
    "\n",
    "buffer = classes.ReplayBuffer(capacity=capacity, observation_shape=(obs_dim,), action_dim=act_dim)\n",
    "\n",
    "for s, a, r, ns, done in zip(states_scaled, hybrid_actions_scaled, rewards_scaled, next_states_scaled, terminals):\n",
    "    buffer.add(s, a, r, ns, done)\n",
    "\n",
    "print(capacity)"
   ]
  },
  {
   "cell_type": "markdown",
   "id": "5667e51b",
   "metadata": {},
   "source": [
    "### Create the H-IQL networks\n",
    "There are more hyperparameters such as zeta included in the class that can be set here. "
   ]
  },
  {
   "cell_type": "code",
   "execution_count": 14,
   "metadata": {},
   "outputs": [
    {
     "name": "stdout",
     "output_type": "stream",
     "text": [
      "Buffer size: 99075\n",
      "obs_dim: 4, act_dim: 3\n",
      "Action range: -2.9883339405059814 2.982673168182373\n",
      "Obs range: -3.3845583766881124 3.157297275462821\n"
     ]
    }
   ],
   "source": [
    "import HIQL as classes\n",
    "importlib.reload(classes)\n",
    "\n",
    "obs_dim = states.shape[-1]\n",
    "act_dim = hybrid_actions.shape[-1]\n",
    "continuous_dim = 1\n",
    "discrete_dim = act_dim - continuous_dim\n",
    "hidden_dims = [256, 256]\n",
    "device = 'cpu'\n",
    "\n",
    "model = classes.HIQLModel(observation_dim=obs_dim, discrete_dim=discrete_dim, continuous_dim=continuous_dim, \n",
    "                         hidden_dims=hidden_dims, device=device, expectile=0.7, weight_temp=3.0, gamma=0.99, \n",
    "                         observation_scaler=obs_scaler, action_scaler=action_scaler, reward_scaler=reward_scaler)\n",
    "\n",
    "print(f'Buffer size: {states.shape[0]}')\n",
    "print(f'obs_dim: {obs_dim}, act_dim: {act_dim}')\n",
    "print(\"Action range:\", hybrid_actions.min(), hybrid_actions.max())\n",
    "print(\"Obs range:\", states.min(), states.max())"
   ]
  },
  {
   "cell_type": "markdown",
   "id": "6b8f3629",
   "metadata": {},
   "source": [
    "### Custom evaluation on the environment"
   ]
  },
  {
   "cell_type": "code",
   "execution_count": 15,
   "id": "e03794e8",
   "metadata": {},
   "outputs": [],
   "source": [
    "def evaluate_policy(policy, env, n_episodes=100):\n",
    "    returns = []\n",
    "    for _ in range(n_episodes):\n",
    "        obs, _ = env.reset()\n",
    "        done = False\n",
    "        total_reward = 0\n",
    "        while not done:\n",
    "            action = policy(obs) \n",
    "            obs, reward, terminated, truncated, _ = env.step(action[0].flatten())\n",
    "            total_reward += reward\n",
    "            done = terminated or truncated\n",
    "        returns.append(total_reward)\n",
    "    return returns"
   ]
  },
  {
   "cell_type": "markdown",
   "id": "100fcff8",
   "metadata": {},
   "source": [
    "### Training the model\n",
    "In a simple environment like this, 30000 traning steps is more than enough to find the optimal policy."
   ]
  },
  {
   "cell_type": "code",
   "execution_count": 16,
   "id": "b6cc4172",
   "metadata": {},
   "outputs": [
    {
     "name": "stderr",
     "output_type": "stream",
     "text": [
      "Training:   0%|          | 0/30000 [00:00<?, ?it/s]"
     ]
    },
    {
     "name": "stderr",
     "output_type": "stream",
     "text": [
      "Training:   0%|          | 4/30000 [00:01<2:08:24,  3.89it/s, Time=1.22s, Q Loss=2.3863, Value Loss=0.0107, Actor Loss=0.7430] "
     ]
    },
    {
     "name": "stdout",
     "output_type": "stream",
     "text": [
      "0: 85.2\n"
     ]
    },
    {
     "name": "stderr",
     "output_type": "stream",
     "text": [
      "Training:   7%|▋         | 2008/30000 [00:54<42:24, 11.00it/s, Time=54.03s, Q Loss=0.0297, Value Loss=0.0029, Actor Loss=0.3655]"
     ]
    },
    {
     "name": "stdout",
     "output_type": "stream",
     "text": [
      "2000: 127.1\n"
     ]
    },
    {
     "name": "stderr",
     "output_type": "stream",
     "text": [
      "Training:  13%|█▎        | 4008/30000 [01:49<41:09, 10.52it/s, Time=109.17s, Q Loss=0.0507, Value Loss=0.0049, Actor Loss=-0.0105]"
     ]
    },
    {
     "name": "stdout",
     "output_type": "stream",
     "text": [
      "4000: 119.7\n"
     ]
    },
    {
     "name": "stderr",
     "output_type": "stream",
     "text": [
      "Training:  20%|██        | 6007/30000 [02:43<45:57,  8.70it/s, Time=163.40s, Q Loss=0.0285, Value Loss=0.0057, Actor Loss=-0.1466]  "
     ]
    },
    {
     "name": "stdout",
     "output_type": "stream",
     "text": [
      "6000: 155.5\n"
     ]
    },
    {
     "name": "stderr",
     "output_type": "stream",
     "text": [
      "Training:  27%|██▋       | 8004/30000 [03:37<1:03:35,  5.77it/s, Time=217.78s, Q Loss=0.0149, Value Loss=0.0130, Actor Loss=-0.0878]"
     ]
    },
    {
     "name": "stdout",
     "output_type": "stream",
     "text": [
      "8000: 158.8\n"
     ]
    },
    {
     "name": "stderr",
     "output_type": "stream",
     "text": [
      "Training:  33%|███▎      | 10005/30000 [04:38<1:04:59,  5.13it/s, Time=278.31s, Q Loss=0.0197, Value Loss=0.0160, Actor Loss=-0.0902]"
     ]
    },
    {
     "name": "stdout",
     "output_type": "stream",
     "text": [
      "10000: 495.2\n"
     ]
    },
    {
     "name": "stderr",
     "output_type": "stream",
     "text": [
      "Training:  40%|████      | 12004/30000 [05:37<1:31:47,  3.27it/s, Time=337.44s, Q Loss=0.0377, Value Loss=0.0168, Actor Loss=-0.0594]"
     ]
    },
    {
     "name": "stdout",
     "output_type": "stream",
     "text": [
      "12000: 363.6\n"
     ]
    },
    {
     "name": "stderr",
     "output_type": "stream",
     "text": [
      "Training:  47%|████▋     | 14005/30000 [06:44<2:45:06,  1.61it/s, Time=404.44s, Q Loss=0.0208, Value Loss=0.0183, Actor Loss=-0.1283]"
     ]
    },
    {
     "name": "stdout",
     "output_type": "stream",
     "text": [
      "14000: 1000.0\n"
     ]
    },
    {
     "name": "stderr",
     "output_type": "stream",
     "text": [
      "Training:  53%|█████▎    | 16008/30000 [07:48<2:15:54,  1.72it/s, Time=468.73s, Q Loss=0.0151, Value Loss=0.0363, Actor Loss=-0.1468]"
     ]
    },
    {
     "name": "stdout",
     "output_type": "stream",
     "text": [
      "16000: 1000.0\n"
     ]
    },
    {
     "name": "stderr",
     "output_type": "stream",
     "text": [
      "Training:  60%|██████    | 18005/30000 [08:57<1:13:48,  2.71it/s, Time=537.75s, Q Loss=0.0282, Value Loss=0.0356, Actor Loss=-0.1371]"
     ]
    },
    {
     "name": "stdout",
     "output_type": "stream",
     "text": [
      "18000: 1000.0\n"
     ]
    },
    {
     "name": "stderr",
     "output_type": "stream",
     "text": [
      "Training:  67%|██████▋   | 20004/30000 [10:03<1:32:14,  1.81it/s, Time=603.01s, Q Loss=0.0089, Value Loss=0.0326, Actor Loss=-0.1792]"
     ]
    },
    {
     "name": "stdout",
     "output_type": "stream",
     "text": [
      "20000: 1000.0\n"
     ]
    },
    {
     "name": "stderr",
     "output_type": "stream",
     "text": [
      "Training:  73%|███████▎  | 22008/30000 [11:09<1:27:45,  1.52it/s, Time=668.86s, Q Loss=0.0111, Value Loss=0.0358, Actor Loss=-0.1701]"
     ]
    },
    {
     "name": "stdout",
     "output_type": "stream",
     "text": [
      "22000: 1000.0\n"
     ]
    },
    {
     "name": "stderr",
     "output_type": "stream",
     "text": [
      "Training:  80%|████████  | 24006/30000 [12:12<57:56,  1.72it/s, Time=732.27s, Q Loss=0.0185, Value Loss=0.0400, Actor Loss=-0.3661]  "
     ]
    },
    {
     "name": "stdout",
     "output_type": "stream",
     "text": [
      "24000: 1000.0\n"
     ]
    },
    {
     "name": "stderr",
     "output_type": "stream",
     "text": [
      "Training:  87%|████████▋ | 26005/30000 [13:16<40:00,  1.66it/s, Time=796.89s, Q Loss=0.0120, Value Loss=0.0550, Actor Loss=-0.2125]"
     ]
    },
    {
     "name": "stdout",
     "output_type": "stream",
     "text": [
      "26000: 1000.0\n"
     ]
    },
    {
     "name": "stderr",
     "output_type": "stream",
     "text": [
      "Training:  93%|█████████▎| 28006/30000 [14:23<19:53,  1.67it/s, Time=863.50s, Q Loss=0.0100, Value Loss=0.0371, Actor Loss=-0.1176]"
     ]
    },
    {
     "name": "stdout",
     "output_type": "stream",
     "text": [
      "28000: 1000.0\n"
     ]
    },
    {
     "name": "stderr",
     "output_type": "stream",
     "text": [
      "Training: 100%|██████████| 30000/30000 [15:15<00:00, 32.75it/s, Time=913.33s, Q Loss=0.0239, Value Loss=0.0333, Actor Loss=-0.1618]\n"
     ]
    }
   ],
   "source": [
    "from tqdm import trange\n",
    "import time\n",
    "    \n",
    "num_training_steps = 30000\n",
    "batch_size = 256\n",
    "num_critic_steps_per_actor = 1  \n",
    "update_interval = 100      \n",
    "\n",
    "start_time = time.time()\n",
    "pbar = trange(num_training_steps, desc=\"Training\", leave=True)\n",
    "history = {}\n",
    "eval_dict = {}\n",
    "\n",
    "for step in pbar:\n",
    "    batch = buffer.sample(batch_size)\n",
    "    \n",
    "    critic_info = model.update_critic_value(batch)\n",
    "\n",
    "    actor_info = model.update_actor(batch)\n",
    "    model.actor_lr_schedule.step()\n",
    "\n",
    "    losses = {**critic_info, **actor_info}\n",
    "    \n",
    "    if step % 2000 == 0:\n",
    "            returns = evaluate_policy(model.predict, eval_env, n_episodes=10)\n",
    "            eval_dict[step] = np.mean(returns)\n",
    "            print(f'{step}: {np.mean(returns)}')\n",
    "\n",
    "    if step % update_interval == 0:\n",
    "        elapsed = time.time() - start_time\n",
    "        history[step] = losses\n",
    "        pbar.set_postfix({\n",
    "            \"Time\": f\"{elapsed:.2f}s\",\n",
    "            \"Q Loss\": f\"{losses['q_loss']:.4f}\",\n",
    "            \"Value Loss\": f\"{losses['value_loss']:.4f}\",\n",
    "            \"Actor Loss\": f\"{losses['actor_loss']:.4f}\",\n",
    "        })"
   ]
  },
  {
   "cell_type": "markdown",
   "id": "3f07872f",
   "metadata": {},
   "source": [
    "### Final evaluation of of the model in the environment"
   ]
  },
  {
   "cell_type": "code",
   "execution_count": 18,
   "id": "e4607762",
   "metadata": {},
   "outputs": [
    {
     "name": "stdout",
     "output_type": "stream",
     "text": [
      "Average return: 1000.00\n"
     ]
    }
   ],
   "source": [
    "model.policy.eval()\n",
    "returns = evaluate_policy(model.predict, eval_env, 100)\n",
    "mean_return = np.mean(returns)\n",
    "\n",
    "print(f\"Average return: {mean_return:.2f}\")"
   ]
  },
  {
   "cell_type": "markdown",
   "id": "eff4441e",
   "metadata": {},
   "source": [
    "### Plotting the losses over the 30000 training steps"
   ]
  },
  {
   "cell_type": "code",
   "execution_count": null,
   "id": "593e11a1",
   "metadata": {},
   "outputs": [
    {
     "data": {
      "image/png": "[encoded data removed]",
      "text/plain": [
       "<Figure size 1000x500 with 1 Axes>"
      ]
     },
     "metadata": {},
     "output_type": "display_data"
    }
   ],
   "source": [
    "import matplotlib.pyplot as plt\n",
    "import numpy as np\n",
    "\n",
    "def smooth_data(data, window_size):\n",
    "    return np.convolve(data, np.ones(window_size)/window_size, mode='valid')\n",
    "\n",
    "steps = sorted(history.keys())\n",
    "q_losses   = [history[s]['q_loss']   for s in steps]\n",
    "v_losses   = [history[s]['value_loss'] for s in steps]\n",
    "pi_losses  = [history[s]['actor_loss'] for s in steps]\n",
    "\n",
    "window_size = 100\n",
    "q_losses_smooth = smooth_data(q_losses, window_size)\n",
    "v_losses_smooth = smooth_data(v_losses, window_size)\n",
    "pi_losses_smooth = smooth_data(pi_losses, window_size)\n",
    "\n",
    "smoothed_steps = steps[window_size-1:]\n",
    "\n",
    "plt.figure(figsize=(10,5))\n",
    "plt.plot(smoothed_steps, q_losses_smooth,  label='Q Loss')\n",
    "plt.plot(smoothed_steps, v_losses_smooth,  label='Value Loss')\n",
    "plt.plot(smoothed_steps, pi_losses_smooth, label='Actor Loss')\n",
    "plt.xlabel('Training Step')\n",
    "plt.ylabel('Loss')\n",
    "plt.title('Training Losses over 30000 gradient steps')\n",
    "plt.legend()\n",
    "plt.grid(True)\n",
    "plt.show()\n"
   ]
  }
 ],
 "metadata": {
  "kernelspec": {
   "display_name": "Python 3",
   "language": "python",
   "name": "python3"
  },
  "language_info": {
   "codemirror_mode": {
    "name": "ipython",
    "version": 3
   },
   "file_extension": ".py",
   "mimetype": "text/x-python",
   "name": "python",
   "nbconvert_exporter": "python",
   "pygments_lexer": "ipython3",
   "version": "3.10.12"
  }
 },
 "nbformat": 4,
 "nbformat_minor": 5
}
